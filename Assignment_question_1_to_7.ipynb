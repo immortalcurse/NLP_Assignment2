{
 "cells": [
  {
   "cell_type": "markdown",
   "id": "6fe913c5",
   "metadata": {},
   "source": [
    "## NLP - Assignment 2"
   ]
  },
  {
   "cell_type": "markdown",
   "id": "087d24d3",
   "metadata": {},
   "source": [
    "---\n",
    "\n",
    "### Question 1-2:\n",
    "\n",
    "We take the data form the given corpus and use the NLTK sentence tokeniser."
   ]
  },
  {
   "cell_type": "code",
   "execution_count": 2,
   "id": "00a9b3f5",
   "metadata": {},
   "outputs": [],
   "source": [
    "import string\n",
    "import random\n",
    "import nltk\n",
    "from nltk.corpus import reuters\n",
    "from nltk import FreqDist\n",
    "from nltk.corpus import stopwords"
   ]
  },
  {
   "cell_type": "code",
   "execution_count": 3,
   "id": "b5dfa4e4",
   "metadata": {},
   "outputs": [],
   "source": [
    "from nltk.corpus import stopwords\n",
    "import random\n",
    "from sklearn.model_selection import train_test_split\n",
    "import math"
   ]
  },
  {
   "cell_type": "code",
   "execution_count": 4,
   "id": "187a50e8",
   "metadata": {},
   "outputs": [],
   "source": [
    "import pandas as pd\n",
    "df=pd.read_csv(\"preprocessed_data.csv\")"
   ]
  },
  {
   "cell_type": "code",
   "execution_count": 5,
   "id": "e06f6e89",
   "metadata": {},
   "outputs": [
    {
     "data": {
      "text/html": [
       "<div>\n",
       "<style scoped>\n",
       "    .dataframe tbody tr th:only-of-type {\n",
       "        vertical-align: middle;\n",
       "    }\n",
       "\n",
       "    .dataframe tbody tr th {\n",
       "        vertical-align: top;\n",
       "    }\n",
       "\n",
       "    .dataframe thead th {\n",
       "        text-align: right;\n",
       "    }\n",
       "</style>\n",
       "<table border=\"1\" class=\"dataframe\">\n",
       "  <thead>\n",
       "    <tr style=\"text-align: right;\">\n",
       "      <th></th>\n",
       "      <th>Unnamed: 0.1</th>\n",
       "      <th>Unnamed: 0</th>\n",
       "      <th>Post_ID</th>\n",
       "      <th>Comment_ID</th>\n",
       "      <th>Comment</th>\n",
       "      <th>Majority_Sentiment</th>\n",
       "      <th>lemmatized_comments</th>\n",
       "    </tr>\n",
       "  </thead>\n",
       "  <tbody>\n",
       "    <tr>\n",
       "      <th>0</th>\n",
       "      <td>0</td>\n",
       "      <td>1</td>\n",
       "      <td>108l3ho</td>\n",
       "      <td>j3vlnat</td>\n",
       "      <td>Some of them yes but this one i got it from my...</td>\n",
       "      <td>Neutral</td>\n",
       "      <td>some of them yes but this one i got it from my...</td>\n",
       "    </tr>\n",
       "    <tr>\n",
       "      <th>1</th>\n",
       "      <td>1</td>\n",
       "      <td>2</td>\n",
       "      <td>10j6oqj</td>\n",
       "      <td>j5j34zb</td>\n",
       "      <td>I keep mine in my phone cover for good luck</td>\n",
       "      <td>Positive</td>\n",
       "      <td>i keep mine in my phone cover for good luck</td>\n",
       "    </tr>\n",
       "    <tr>\n",
       "      <th>2</th>\n",
       "      <td>2</td>\n",
       "      <td>3</td>\n",
       "      <td>10j6oqj</td>\n",
       "      <td>j5jbs3f</td>\n",
       "      <td>Hang on to it These are rare to come by as the...</td>\n",
       "      <td>Neutral</td>\n",
       "      <td>hang on to it  these are rare to come by a the...</td>\n",
       "    </tr>\n",
       "    <tr>\n",
       "      <th>3</th>\n",
       "      <td>3</td>\n",
       "      <td>4</td>\n",
       "      <td>10j6oqj</td>\n",
       "      <td>j5jfczd</td>\n",
       "      <td>Yeah Cool I got this from my classmate in 2015...</td>\n",
       "      <td>Positive</td>\n",
       "      <td>yeah   cool  i got this from my classmate in 2...</td>\n",
       "    </tr>\n",
       "    <tr>\n",
       "      <th>4</th>\n",
       "      <td>4</td>\n",
       "      <td>5</td>\n",
       "      <td>10o9tvi</td>\n",
       "      <td>j6h1ko8</td>\n",
       "      <td>Check out the Kaja Throm Beautiful marketplace...</td>\n",
       "      <td>Positive</td>\n",
       "      <td>check out the kaja throm  beautiful marketplac...</td>\n",
       "    </tr>\n",
       "    <tr>\n",
       "      <th>...</th>\n",
       "      <td>...</td>\n",
       "      <td>...</td>\n",
       "      <td>...</td>\n",
       "      <td>...</td>\n",
       "      <td>...</td>\n",
       "      <td>...</td>\n",
       "      <td>...</td>\n",
       "    </tr>\n",
       "    <tr>\n",
       "      <th>130611</th>\n",
       "      <td>130611</td>\n",
       "      <td>166838</td>\n",
       "      <td>zp46e8</td>\n",
       "      <td>0</td>\n",
       "      <td>Our population growth rate is 19 Our Birth rat...</td>\n",
       "      <td>Neutral</td>\n",
       "      <td>our population growth rate is 19  our birth ra...</td>\n",
       "    </tr>\n",
       "    <tr>\n",
       "      <th>130612</th>\n",
       "      <td>130612</td>\n",
       "      <td>166839</td>\n",
       "      <td>zp46e8</td>\n",
       "      <td>0</td>\n",
       "      <td>I obviously wont But  not only you dont do bes...</td>\n",
       "      <td>Negative</td>\n",
       "      <td>i obviously wo nt  but  not only you do nt do ...</td>\n",
       "    </tr>\n",
       "    <tr>\n",
       "      <th>130613</th>\n",
       "      <td>130613</td>\n",
       "      <td>166840</td>\n",
       "      <td>zp46e8</td>\n",
       "      <td>0</td>\n",
       "      <td>bengal has always been some of the most fertil...</td>\n",
       "      <td>Positive</td>\n",
       "      <td>bengal ha always been some of the most fertile...</td>\n",
       "    </tr>\n",
       "    <tr>\n",
       "      <th>130614</th>\n",
       "      <td>130614</td>\n",
       "      <td>166841</td>\n",
       "      <td>zp46e8</td>\n",
       "      <td>0</td>\n",
       "      <td>racist agenda\\n\\nAhhh yes its always racism\\n\\...</td>\n",
       "      <td>Negative</td>\n",
       "      <td>racist agenda ahhh yes  it s always racism  t...</td>\n",
       "    </tr>\n",
       "    <tr>\n",
       "      <th>130615</th>\n",
       "      <td>130615</td>\n",
       "      <td>166842</td>\n",
       "      <td>zp46e8</td>\n",
       "      <td>0</td>\n",
       "      <td>Ahhh yes its always racism\\n\\nWhat else honest...</td>\n",
       "      <td>Negative</td>\n",
       "      <td>ahhh yes  it s always racism  what else hones...</td>\n",
       "    </tr>\n",
       "  </tbody>\n",
       "</table>\n",
       "<p>130616 rows × 7 columns</p>\n",
       "</div>"
      ],
      "text/plain": [
       "        Unnamed: 0.1  Unnamed: 0  Post_ID Comment_ID  \\\n",
       "0                  0           1  108l3ho    j3vlnat   \n",
       "1                  1           2  10j6oqj    j5j34zb   \n",
       "2                  2           3  10j6oqj    j5jbs3f   \n",
       "3                  3           4  10j6oqj    j5jfczd   \n",
       "4                  4           5  10o9tvi    j6h1ko8   \n",
       "...              ...         ...      ...        ...   \n",
       "130611        130611      166838   zp46e8          0   \n",
       "130612        130612      166839   zp46e8          0   \n",
       "130613        130613      166840   zp46e8          0   \n",
       "130614        130614      166841   zp46e8          0   \n",
       "130615        130615      166842   zp46e8          0   \n",
       "\n",
       "                                                  Comment Majority_Sentiment  \\\n",
       "0       Some of them yes but this one i got it from my...            Neutral   \n",
       "1             I keep mine in my phone cover for good luck           Positive   \n",
       "2       Hang on to it These are rare to come by as the...            Neutral   \n",
       "3       Yeah Cool I got this from my classmate in 2015...           Positive   \n",
       "4       Check out the Kaja Throm Beautiful marketplace...           Positive   \n",
       "...                                                   ...                ...   \n",
       "130611  Our population growth rate is 19 Our Birth rat...            Neutral   \n",
       "130612  I obviously wont But  not only you dont do bes...           Negative   \n",
       "130613  bengal has always been some of the most fertil...           Positive   \n",
       "130614  racist agenda\\n\\nAhhh yes its always racism\\n\\...           Negative   \n",
       "130615  Ahhh yes its always racism\\n\\nWhat else honest...           Negative   \n",
       "\n",
       "                                      lemmatized_comments  \n",
       "0       some of them yes but this one i got it from my...  \n",
       "1             i keep mine in my phone cover for good luck  \n",
       "2       hang on to it  these are rare to come by a the...  \n",
       "3       yeah   cool  i got this from my classmate in 2...  \n",
       "4       check out the kaja throm  beautiful marketplac...  \n",
       "...                                                   ...  \n",
       "130611  our population growth rate is 19  our birth ra...  \n",
       "130612  i obviously wo nt  but  not only you do nt do ...  \n",
       "130613  bengal ha always been some of the most fertile...  \n",
       "130614   racist agenda ahhh yes  it s always racism  t...  \n",
       "130615   ahhh yes  it s always racism  what else hones...  \n",
       "\n",
       "[130616 rows x 7 columns]"
      ]
     },
     "execution_count": 5,
     "metadata": {},
     "output_type": "execute_result"
    }
   ],
   "source": [
    "df"
   ]
  },
  {
   "cell_type": "code",
   "execution_count": 6,
   "id": "b1bb95b0",
   "metadata": {},
   "outputs": [],
   "source": [
    "proc_sents=[sentence for sentence in df.loc[:,\"lemmatized_comments\"]]"
   ]
  },
  {
   "cell_type": "code",
   "execution_count": 7,
   "id": "914df5c9",
   "metadata": {},
   "outputs": [],
   "source": [
    "for sen in proc_sents:\n",
    "    if 'http' in sen:\n",
    "        proc_sents.remove(sen)"
   ]
  },
  {
   "cell_type": "code",
   "execution_count": 8,
   "id": "08e456cf",
   "metadata": {},
   "outputs": [
    {
     "data": {
      "text/plain": [
       "['some of them yes but this one i got it from my brother who studied in malaysia and he made a friend from bhutan there and he found it for me',\n",
       " 'i keep mine in my phone cover for good luck']"
      ]
     },
     "execution_count": 8,
     "metadata": {},
     "output_type": "execute_result"
    }
   ],
   "source": [
    "proc_sents[0:2]"
   ]
  },
  {
   "cell_type": "code",
   "execution_count": 9,
   "id": "2965e5a1",
   "metadata": {},
   "outputs": [],
   "source": [
    "for i in range(len(proc_sents)):\n",
    "    sentence=proc_sents[i]\n",
    "    proc_sents[i]=sentence.split()"
   ]
  },
  {
   "cell_type": "code",
   "execution_count": 10,
   "id": "03263bea",
   "metadata": {},
   "outputs": [
    {
     "data": {
      "text/plain": [
       "[['some',\n",
       "  'of',\n",
       "  'them',\n",
       "  'yes',\n",
       "  'but',\n",
       "  'this',\n",
       "  'one',\n",
       "  'i',\n",
       "  'got',\n",
       "  'it',\n",
       "  'from',\n",
       "  'my',\n",
       "  'brother',\n",
       "  'who',\n",
       "  'studied',\n",
       "  'in',\n",
       "  'malaysia',\n",
       "  'and',\n",
       "  'he',\n",
       "  'made',\n",
       "  'a',\n",
       "  'friend',\n",
       "  'from',\n",
       "  'bhutan',\n",
       "  'there',\n",
       "  'and',\n",
       "  'he',\n",
       "  'found',\n",
       "  'it',\n",
       "  'for',\n",
       "  'me'],\n",
       " ['i', 'keep', 'mine', 'in', 'my', 'phone', 'cover', 'for', 'good', 'luck']]"
      ]
     },
     "execution_count": 10,
     "metadata": {},
     "output_type": "execute_result"
    }
   ],
   "source": [
    "proc_sents[0:2]"
   ]
  },
  {
   "cell_type": "markdown",
   "id": "b42f0fb8",
   "metadata": {},
   "source": [
    "---\n",
    "\n",
    "### Question 3:\n",
    "\n",
    "Here, we make a 80-20 split of the data into training and test data."
   ]
  },
  {
   "cell_type": "code",
   "execution_count": 11,
   "id": "1803d95e",
   "metadata": {},
   "outputs": [],
   "source": [
    "import numpy as np\n",
    "np.random.seed(0)\n",
    "train_set, validation_set = train_test_split(proc_sents, test_size=0.2)"
   ]
  },
  {
   "cell_type": "markdown",
   "id": "1954dd7f",
   "metadata": {},
   "source": [
    "---\n",
    "### Question 4:\n",
    "\n",
    "Here we are training the Language model on the test data. The training part mainly includes parsing through the corpus and calculating the number of word tuples (single tuples for unigram, two tuples for bigrams and so on). These tuple counts are saved in the dictionaries unigrams, bigrams, trigrams, quadragms."
   ]
  },
  {
   "cell_type": "code",
   "execution_count": 12,
   "id": "0116675e",
   "metadata": {},
   "outputs": [],
   "source": [
    "# Total number of unique words in the corpus\n",
    "word_to_int = {}\n",
    "count = 0\n",
    "for sentence in train_set:\n",
    "    for token in sentence:\n",
    "        if(token not in word_to_int): \n",
    "            word_to_int[token] = count\n",
    "            count += 1"
   ]
  },
  {
   "cell_type": "code",
   "execution_count": 13,
   "id": "108090c9",
   "metadata": {},
   "outputs": [],
   "source": [
    "# Dictionaries containing the count of each n-gram\n",
    "unigrams = {}\n",
    "bigrams = {}\n",
    "trigrams = {}\n",
    "quadgrams = {}"
   ]
  },
  {
   "cell_type": "code",
   "execution_count": 14,
   "id": "1939bf32",
   "metadata": {},
   "outputs": [],
   "source": [
    "for sentence in train_set:\n",
    "    for token in sentence:\n",
    "        if(token not in unigrams): unigrams[token] = 0\n",
    "        unigrams[token] += 1"
   ]
  },
  {
   "cell_type": "code",
   "execution_count": 32,
   "id": "36b5a6f3",
   "metadata": {},
   "outputs": [
    {
     "name": "stdout",
     "output_type": "stream",
     "text": [
      "{'since': 0, 'you': 1, 'are': 2}\n"
     ]
    }
   ],
   "source": [
    "# word_to_int \n",
    "print({k: word_to_int[k] for k in list(word_to_int)[:3]})"
   ]
  },
  {
   "cell_type": "code",
   "execution_count": 16,
   "id": "4f0c3ac4",
   "metadata": {},
   "outputs": [],
   "source": [
    "for sentence in train_set:\n",
    "    for i in range(3 , len(sentence)):\n",
    "        quadgram = (sentence[i-3] , sentence[i-2] , sentence[i-1], sentence[i])\n",
    "        if(quadgram not in quadgrams): quadgrams[quadgram] = 0\n",
    "        quadgrams[quadgram] += 1"
   ]
  },
  {
   "cell_type": "code",
   "execution_count": 17,
   "id": "b9dea3bf",
   "metadata": {},
   "outputs": [],
   "source": [
    "for sentence in train_set:\n",
    "    for i in range(2 , len(sentence)):\n",
    "        trigram = (sentence[i-2] , sentence[i-1], sentence[i])\n",
    "        if(trigram not in trigrams): trigrams[trigram] = 0\n",
    "        trigrams[trigram] += 1"
   ]
  },
  {
   "cell_type": "code",
   "execution_count": 18,
   "id": "5ecd768e",
   "metadata": {},
   "outputs": [],
   "source": [
    "for sentence in train_set:\n",
    "    for i in range(1 , len(sentence)):\n",
    "        bigram = (sentence[i-1], sentence[i])\n",
    "        if(bigram not in bigrams): bigrams[bigram] = 0\n",
    "        bigrams[bigram] += 1"
   ]
  },
  {
   "cell_type": "markdown",
   "id": "d2aa4893",
   "metadata": {},
   "source": [
    "#### Here we can see some examples of the counts of word tuples"
   ]
  },
  {
   "cell_type": "code",
   "execution_count": 19,
   "id": "497e6fca",
   "metadata": {},
   "outputs": [
    {
     "name": "stdout",
     "output_type": "stream",
     "text": [
      "{'since': 1979, 'you': 52791, 'are': 32857}\n"
     ]
    }
   ],
   "source": [
    "# unigrams\n",
    "print({k: unigrams[k] for k in list(unigrams)[:3]})"
   ]
  },
  {
   "cell_type": "code",
   "execution_count": 20,
   "id": "606d6be0",
   "metadata": {},
   "outputs": [
    {
     "name": "stdout",
     "output_type": "stream",
     "text": [
      "{('since', 'you'): 134, ('you', 'are'): 3861, ('are', 'bringing'): 17}\n"
     ]
    }
   ],
   "source": [
    "# bigrams\n",
    "print({k: bigrams[k] for k in list(bigrams)[:3]})"
   ]
  },
  {
   "cell_type": "code",
   "execution_count": 21,
   "id": "a9ef2eed",
   "metadata": {},
   "outputs": [
    {
     "name": "stdout",
     "output_type": "stream",
     "text": [
      "{('since', 'you', 'are'): 18, ('you', 'are', 'bringing'): 7, ('are', 'bringing', 'up'): 4}\n"
     ]
    }
   ],
   "source": [
    "# trigrams\n",
    "print({k: trigrams[k] for k in list(trigrams)[:3]})"
   ]
  },
  {
   "cell_type": "code",
   "execution_count": 22,
   "id": "f53de3f5",
   "metadata": {},
   "outputs": [
    {
     "name": "stdout",
     "output_type": "stream",
     "text": [
      "{('since', 'you', 'are', 'bringing'): 1, ('you', 'are', 'bringing', 'up'): 3, ('are', 'bringing', 'up', 'different'): 1}\n"
     ]
    }
   ],
   "source": [
    "# quadgrams\n",
    "print({k: quadgrams[k] for k in list(quadgrams)[:3]})"
   ]
  },
  {
   "cell_type": "code",
   "execution_count": null,
   "id": "5e2e3a6c",
   "metadata": {},
   "outputs": [],
   "source": []
  },
  {
   "cell_type": "markdown",
   "id": "748a39f9",
   "metadata": {},
   "source": [
    "---\n",
    "### Question 5:\n",
    "\n",
    "Calculating the perplexity score of the various models on the test data. (Unigram/Bigram/Trigram/Quadragram)\n",
    "\n",
    "We know the formula for perplexity of a sentence in an ngram model is:\n",
    "\n",
    "\\begin{align}\n",
    "PP(W) &= \\sqrt[N]{\\frac{1}{P(w_1,w_2,w_3,...,w_N)}} \\\\\n",
    "& \\sim \\sqrt[N]{\\frac{1}{\\prod_{i=1}^{N}P(w_i|w_1,w_2,...,w_{i-1})}} \\\\\n",
    "\\end{align}\n",
    "\n",
    "where N is the number of words in the sentence and P is the probability of the sentence. Here we use the Markov approximation to change the probability of the sentence to the product of the probabilities of the words only for a fix n words behind it. n being the order of the ngram model.\n",
    "\n",
    "The way we get the probabilites is:\n",
    "\n",
    "\\begin{align}\n",
    "P(w_i|w_1,w_2,...,w_{i-1}) &= \\frac{P(w_1,w_2,...,w_{i-1},w_i)}{P(w_1,w_2,...,w_{i-1})} \\\\\n",
    "&= \\frac{C(w_1,w_2,...,w_{i-1},w_i)}{C(w_1,w_2,...,w_{i-1})} \\\\\n",
    "\\end{align}\n",
    "\n",
    "where C is the count of the word tuple in the corpus.\n",
    "\n",
    "So this example for the bigram would be:\n",
    "\n",
    "\\begin{align}\n",
    "P(w_{i}|w_{i-1}) =  \\frac{C(w_{i-1},w_i)}{C(w_{i-1})} \\\\\n",
    "\\end{align}\n",
    "\n",
    "> Our solution for the problem of tuples not in the corpus:\n",
    "\n",
    "For the direct case, when we do have either the numerator $C(w_{i}, w_{i-1})$ or $C(w_{i-1})$ as zero in the corpus due to the tuple being missing, we replace the probability with some other expected value.\n",
    "\n",
    "In this implementation, we estimated the value of probability for the missing tuples case by the **inverse of the vocabulary size.**. \n",
    "\n",
    "The reason for this being that perplexity tries to measure the uncertainity in predicting the next word of a sentence, and its value corresponds to how many words from the corpus it is equally confused from. Hense if a said tuple is not present in the training data, then the model will be equally confused between all the words in the vocabulary, when trying to predict the next word. \n",
    "\n",
    "Thus $$P(w_i|w_1,w_2,...,w_{i-1}) = \\frac{1}{V}$$\n",
    "\n",
    "where V is the vocabulary size, if the tuple ${w_i, w_{i-1}, ... }$ is not present in the training data.\n",
    "\n",
    "> Our solution for numerical stability:\n",
    "\n",
    "We know that the probability of a sentence is the product of the probabilities of the words in the sentence. But the problem with this is that the product of many small numbers can be very small and can cause numerical instability. \n",
    "\n",
    "So we take the log of the probabilities and add them instead of multiplying them. This is equivalent to multiplying the probabilities, and gives the correct values instead of infinities.\n",
    "\n"
   ]
  },
  {
   "cell_type": "code",
   "execution_count": 39,
   "id": "94690bb2",
   "metadata": {},
   "outputs": [
    {
     "data": {
      "text/plain": [
       "72406"
      ]
     },
     "execution_count": 39,
     "metadata": {},
     "output_type": "execute_result"
    }
   ],
   "source": [
    "len(unigrams)"
   ]
  },
  {
   "cell_type": "code",
   "execution_count": 77,
   "id": "bca2b336",
   "metadata": {},
   "outputs": [
    {
     "name": "stdout",
     "output_type": "stream",
     "text": [
      "average perplexity of unigram is:  8864.404692934333\n"
     ]
    }
   ],
   "source": [
    "## Unigrams\n",
    "total_sum = sum(unigrams.values())\n",
    "total_perp = 0\n",
    "count_sent = 0\n",
    "\n",
    "for sentence in validation_set:\n",
    "\n",
    "    count_sent += 1\n",
    "    if(len(sentence) < 1): continue\n",
    "    else:\n",
    "        perp = 1\n",
    "        n = len(sentence)\n",
    "        log_perp = 0\n",
    "        for i in range(0 , n):\n",
    "            n_gram = sentence[i]\n",
    "\n",
    "            if(n_gram not in unigrams) :\n",
    "                log_perp += math.log(total_sum)\n",
    "\n",
    "            else:\n",
    "                log_perp += math.log(total_sum/unigrams[n_gram])\n",
    "        log_perp = (1/n)*log_perp\n",
    "        total_perp += math.exp(log_perp)\n",
    "Unigram_perplexity = total_perp / count_sent\n",
    "print(\"average perplexity of unigram is: \",total_perp / count_sent)"
   ]
  },
  {
   "cell_type": "code",
   "execution_count": 43,
   "id": "54827ecc",
   "metadata": {
    "scrolled": true
   },
   "outputs": [
    {
     "name": "stdout",
     "output_type": "stream",
     "text": [
      "average perplexity of bigram is:  592.2785718972964\n"
     ]
    }
   ],
   "source": [
    "## Bigrams\n",
    "total_perp = 0\n",
    "count_sent = 0\n",
    "\n",
    "for sentence in validation_set:\n",
    "    \n",
    "    count_sent += 1\n",
    "    if(len(sentence) < 2): continue\n",
    "    else:\n",
    "        perp = 1\n",
    "        n = len(sentence)\n",
    "        log_perp = 0\n",
    "        for i in range(1 , n):\n",
    "            n_gram = (sentence[i-1], sentence[i])\n",
    "            \n",
    "            if(n_gram[0] not in unigrams) or (n_gram not in bigrams):\n",
    "                log_perp += math.log(len(unigrams))\n",
    "                \n",
    "            else:\n",
    "                log_perp += math.log(unigrams[n_gram[0]]/(bigrams[n_gram]))\n",
    "        log_perp = (1/n)*log_perp\n",
    "        total_perp += math.exp(log_perp)\n",
    "Bigram_perplexity = total_perp / count_sent\n",
    "print(\"average perplexity of bigram is: \",total_perp / count_sent)"
   ]
  },
  {
   "cell_type": "code",
   "execution_count": 44,
   "id": "2b90bf90",
   "metadata": {},
   "outputs": [
    {
     "name": "stdout",
     "output_type": "stream",
     "text": [
      "average perplexity of trigram is:  1973.644316192001\n"
     ]
    }
   ],
   "source": [
    "## Trigram\n",
    "total_perp = 0\n",
    "count_sent = 0\n",
    "\n",
    "for sentence in validation_set:\n",
    "    count_sent += 1\n",
    "    if(len(sentence) < 3): continue\n",
    "    else:\n",
    "        n = len(sentence)\n",
    "        log_perp = 0\n",
    "        for i in range(2 , n):\n",
    "            n_gram = (sentence[i-2], sentence[i-1], sentence[i])\n",
    "            \n",
    "            if(n_gram[:-1] not in bigrams) or (n_gram not in trigrams):\n",
    "                log_perp += math.log(len(unigrams))\n",
    "\n",
    "            else:\n",
    "                log_perp += math.log(bigrams[n_gram[:-1]]/(trigrams[n_gram]))\n",
    "        log_perp = (1/n)*log_perp\n",
    "        total_perp += math.exp(log_perp)\n",
    "Trigram_perplexity = total_perp / count_sent\n",
    "print(\"average perplexity of trigram is: \",total_perp / count_sent)"
   ]
  },
  {
   "cell_type": "code",
   "execution_count": 45,
   "id": "0f449805",
   "metadata": {},
   "outputs": [
    {
     "name": "stdout",
     "output_type": "stream",
     "text": [
      "average perplexity of quadgram is:  6130.475783783798\n"
     ]
    }
   ],
   "source": [
    "## Quadgram\n",
    "total_perp = 0\n",
    "count_sent = 0\n",
    "\n",
    "for sentence in validation_set:\n",
    "    count_sent += 1\n",
    "    if(len(sentence) < 4): continue\n",
    "    else:\n",
    "        n = len(sentence)\n",
    "        log_perp = 0\n",
    "        for i in range(3 , n):\n",
    "            n_gram = (sentence[i-3], sentence[i-2], sentence[i-1], sentence[i])\n",
    "            \n",
    "            if(n_gram[:-1] not in trigrams) or (n_gram not in quadgrams):\n",
    "                log_perp += math.log(len(unigrams))\n",
    "\n",
    "            else:\n",
    "                log_perp += math.log(trigrams[n_gram[:-1]]/(quadgrams[n_gram]))\n",
    "        log_perp = (1/n)*log_perp\n",
    "        total_perp += math.exp(log_perp)\n",
    "Quadgram_perplexity = total_perp / count_sent\n",
    "print(\"average perplexity of quadgram is: \",total_perp / count_sent)"
   ]
  },
  {
   "cell_type": "markdown",
   "id": "dc88f019",
   "metadata": {},
   "source": [
    "----\n",
    "### Question 6:\n",
    "\n",
    "Here we use the method of laplace smoothign to smooth the probabilities of the tuples. This is done by adding 1 to the count of each tuple. This is done to avoid the problem of zero probabilities.\n",
    "\n",
    "The formula for the probability of a tuple after laplace smoothing is:\n",
    "\n",
    "\\begin{align}\n",
    "P(w_i|w_1,w_2,...,w_{i-1}) &= \\frac{C(w_1,w_2,...,w_{i-1},w_i) + 1}{C(w_1,w_2,...,w_{i-1}) + V} \\\\\n",
    "\\end{align}\n",
    "\n",
    "where V is the vocabulary size.\n",
    "\n",
    "Here we apply the laplace smoothing method to all the previous models.\n"
   ]
  },
  {
   "cell_type": "code",
   "execution_count": 79,
   "id": "78c872cf",
   "metadata": {},
   "outputs": [
    {
     "name": "stdout",
     "output_type": "stream",
     "text": [
      "average perplexity of Laplace smoothened Unigram is:  8062.611187379733\n"
     ]
    }
   ],
   "source": [
    "## Unigram Laplace smoothing\n",
    "\n",
    "total_perp = 0\n",
    "count_sent = 0\n",
    "\n",
    "for sentence in validation_set:\n",
    "    \n",
    "    count_sent += 1\n",
    "    if(len(sentence) < 1): continue\n",
    "    else:\n",
    "        perp = 1\n",
    "        n = len(sentence)\n",
    "        log_perp = 0\n",
    "        for i in range(0 , n):\n",
    "            n_gram = (sentence[i])\n",
    "            \n",
    "            smooth_prob = (total_sum + len(unigrams))/(unigrams.get(n_gram,0)+1)\n",
    "            log_perp += math.log(smooth_prob)\n",
    "\n",
    "        log_perp = (1/n)*log_perp\n",
    "\n",
    "        total_perp += math.exp(log_perp)\n",
    "Unigram_lperplexity = total_perp / count_sent\n",
    "print(\"average perplexity of Laplace smoothened Unigram is: \",total_perp / count_sent)"
   ]
  },
  {
   "cell_type": "code",
   "execution_count": 80,
   "id": "8efb7047",
   "metadata": {},
   "outputs": [
    {
     "name": "stdout",
     "output_type": "stream",
     "text": [
      "average perplexity of Laplace smoothened bigram is:  2950.6115686115413\n"
     ]
    }
   ],
   "source": [
    "## Bigram Laplace smoothing\n",
    "\n",
    "total_perp = 0\n",
    "count_sent = 0\n",
    "\n",
    "for sentence in validation_set:\n",
    "    \n",
    "    count_sent += 1\n",
    "    if(len(sentence) < 2): continue\n",
    "    else:\n",
    "        perp = 1\n",
    "        n = len(sentence)\n",
    "        log_perp = 0\n",
    "        for i in range(1 , n):\n",
    "            n_gram = (sentence[i-1], sentence[i])\n",
    "            \n",
    "            smooth_prob = (unigrams.get(n_gram[0],0) + len(unigrams))/(bigrams.get(n_gram,0)+1)\n",
    "            log_perp += math.log(smooth_prob)\n",
    "\n",
    "        log_perp = (1/n)*log_perp\n",
    "\n",
    "        total_perp += math.exp(log_perp)\n",
    "Bigram_lperplexity = total_perp / count_sent\n",
    "print(\"average perplexity of Laplace smoothened bigram is: \",total_perp / count_sent)"
   ]
  },
  {
   "cell_type": "code",
   "execution_count": 81,
   "id": "11c23bb0",
   "metadata": {},
   "outputs": [
    {
     "name": "stdout",
     "output_type": "stream",
     "text": [
      "average perplexity of Laplace smoothened trigram is:  10617.441382254596\n"
     ]
    }
   ],
   "source": [
    "## Trigram Laplace SMOOTHING\n",
    "\n",
    "total_perp = 0\n",
    "count_sent = 0\n",
    "\n",
    "for sentence in validation_set:\n",
    "    \n",
    "    count_sent += 1\n",
    "    if(len(sentence) < 3): continue\n",
    "    else:\n",
    "        n = len(sentence)\n",
    "        log_perp = 0\n",
    "        for i in range(2 , n):\n",
    "            n_gram = (sentence[i-2], sentence[i-1], sentence[i])\n",
    "            \n",
    "            smooth_prob = (bigrams.get(n_gram[:-1],0) + len(unigrams))/(trigrams.get(n_gram,0)+1)\n",
    "            log_perp += math.log(smooth_prob)\n",
    "\n",
    "        log_perp = (1/n)*log_perp\n",
    "\n",
    "        total_perp += math.exp(log_perp)\n",
    "Trigram_lperplexity = total_perp / count_sent\n",
    "print(\"average perplexity of Laplace smoothened trigram is: \",total_perp / count_sent)"
   ]
  },
  {
   "cell_type": "code",
   "execution_count": 82,
   "id": "9d051aad",
   "metadata": {},
   "outputs": [
    {
     "name": "stdout",
     "output_type": "stream",
     "text": [
      "average perplexity of Laplace smoothened quadgram is:  13924.504467870463\n"
     ]
    }
   ],
   "source": [
    "## Quadgram LAPLAACE SMOOTHING\n",
    "\n",
    "total_perp = 0\n",
    "count_sent = 0\n",
    "\n",
    "for sentence in validation_set:\n",
    "    \n",
    "    count_sent += 1\n",
    "    if(len(sentence) < 4): continue\n",
    "    else:\n",
    "        n = len(sentence)\n",
    "        log_perp = 0\n",
    "        for i in range(3 , n):\n",
    "            n_gram = (sentence[i-3], sentence[i-2], sentence[i-1], sentence[i])\n",
    "            \n",
    "            smooth_prob = (trigrams.get(n_gram[:-1],0) + len(unigrams))/(quadgrams.get(n_gram,0)+1)\n",
    "            log_perp += math.log(smooth_prob)\n",
    "\n",
    "        log_perp = (1/n)*log_perp\n",
    "\n",
    "        total_perp += math.exp(log_perp)\n",
    "Quadgram_lperplexity = total_perp / count_sent\n",
    "print(\"average perplexity of Laplace smoothened quadgram is: \",total_perp / count_sent)"
   ]
  },
  {
   "cell_type": "markdown",
   "id": "80dcdc75",
   "metadata": {},
   "source": [
    "---\n",
    "\n",
    "### Question 7:"
   ]
  },
  {
   "cell_type": "code",
   "execution_count": 86,
   "id": "9b4facca",
   "metadata": {},
   "outputs": [
    {
     "data": {
      "image/png": "[encoded data removed]",
      "text/plain": [
       "<Figure size 1500x500 with 2 Axes>"
      ]
     },
     "metadata": {},
     "output_type": "display_data"
    }
   ],
   "source": [
    "# Plotting the perplexity values\n",
    "import matplotlib.pyplot as plt\n",
    "import numpy as np\n",
    "import seaborn as sns\n",
    "sns.set_style('whitegrid')\n",
    "\n",
    "nvalues = [1,2,3,4]\n",
    "names = ['Unigram', 'Bigram', 'Trigram', 'Quadgram']\n",
    "values = [Unigram_perplexity, Bigram_perplexity, Trigram_perplexity, Quadgram_perplexity]\n",
    "lvalues = [Unigram_lperplexity, Bigram_lperplexity, Trigram_lperplexity, Quadgram_lperplexity]\n",
    "\n",
    "# Plotting 2 plots\n",
    "fig, (ax1, ax2) = plt.subplots(1, 2, figsize=(15, 5))\n",
    "ax1.plot(nvalues, values, \"o-\")\n",
    "ax1.set_title('Perplexity values')\n",
    "ax1.set_xlabel('n-gram')\n",
    "ax1.set_ylabel('Perplexity')\n",
    "ax1.set_xticks(nvalues)\n",
    "\n",
    "ax2.plot(nvalues, lvalues, \"o-\")\n",
    "ax2.set_title('Laplace Smoothened Perplexity values')\n",
    "ax2.set_xlabel('n-gram')\n",
    "ax2.set_ylabel('Perplexity')\n",
    "ax2.set_xticks(nvalues)\n",
    "\n",
    "plt.show()"
   ]
  },
  {
   "cell_type": "markdown",
   "id": "d651799f",
   "metadata": {},
   "source": [
    "#### Conclusions and observations.\n",
    "\n",
    "We can make two important conclusions:-\n",
    "\n",
    "* For both models, the perplexity value decreases with increase in model size from 1 to 2, but then it again increases after 2\n",
    "\n",
    "* The perplexity of the laplace model is higher than the unsmoothed model.\n",
    "\n",
    "The perplexity value for the unigram model is much higher than the bigram model. This is because the unigram model does not take into account the context of the word, and thus the probability of the word is not dependent on the previous word. This is not the case for the bigram model, where the probability of the word is dependent on the previous word. Thus the bigram model is able to predict the next word better than the unigram model.\n",
    "\n",
    "But, the perplexity of models further increases instead of decreasing according to the logic. This happens as the model size increases to three and four, the combinations of tuples increases exponentially, and there are many combinations in the test data that are not present in the training data. We give these combination a very low probability and thus more and more misses leads to a higher perplexity value.\n",
    "\n",
    "For example, here you can see that so many of the tuples in the quadgram models are not present in the training data. (And their low probability increases the value of perplexity)\n"
   ]
  },
  {
   "cell_type": "code",
   "execution_count": 91,
   "id": "460894bb",
   "metadata": {},
   "outputs": [
    {
     "name": "stdout",
     "output_type": "stream",
     "text": [
      "['you', 'sound', 'very', 'keen', 'on', 'our', 'being', 'blown', 'away']\n",
      "NOT in quadgram ('you', 'sound', 'very', 'keen') 72406\n",
      "NOT in quadgram ('sound', 'very', 'keen', 'on') 72406\n",
      "NOT in quadgram ('very', 'keen', 'on', 'our') 72406\n",
      "NOT in quadgram ('keen', 'on', 'our', 'being') 72406\n",
      "NOT in quadgram ('on', 'our', 'being', 'blown') 72406\n",
      "NOT in quadgram ('our', 'being', 'blown', 'away') 72406\n",
      "['such', 'kind', 'of', 'ppl', 'everywhere', 'even', 'in', 'usuk']\n",
      "in quadgram ('such', 'kind', 'of', 'ppl') 5.0\n",
      "in quadgram ('kind', 'of', 'ppl', 'everywhere') 1.0\n",
      "in quadgram ('of', 'ppl', 'everywhere', 'even') 1.0\n",
      "in quadgram ('ppl', 'everywhere', 'even', 'in') 1.0\n",
      "in quadgram ('everywhere', 'even', 'in', 'usuk') 4.0\n",
      "average perplexity of quadgram is:  869.3268742817878\n"
     ]
    }
   ],
   "source": [
    "## Quadgram\n",
    "total_perp = 0\n",
    "count_sent = 0\n",
    "\n",
    "for sentence in validation_set[0:2]:\n",
    "    print(sentence)\n",
    "    count_sent += 1\n",
    "    if(len(sentence) < 4): continue\n",
    "    else:\n",
    "        n = len(sentence)\n",
    "        log_perp = 0\n",
    "        for i in range(3 , n):\n",
    "            n_gram = (sentence[i-3], sentence[i-2], sentence[i-1], sentence[i])\n",
    "            \n",
    "            if(n_gram[:-1] not in trigrams) or (n_gram not in quadgrams):\n",
    "                log_perp += math.log(len(unigrams))\n",
    "                print(\"NOT in quadgram\", n_gram, len(unigrams) )\n",
    "\n",
    "            else:\n",
    "                log_perp += math.log(trigrams[n_gram[:-1]]/(quadgrams[n_gram]))\n",
    "                print(\"in quadgram\", n_gram, trigrams[n_gram[:-1]]/(quadgrams[n_gram]))\n",
    "        log_perp = (1/n)*log_perp\n",
    "        total_perp += math.exp(log_perp)\n",
    "Quadgram_perplexity = total_perp / count_sent\n",
    "print(\"average perplexity of quadgram is: \",total_perp / count_sent)"
   ]
  },
  {
   "cell_type": "markdown",
   "id": "87517e08",
   "metadata": {},
   "source": [
    "* The perplexity of the laplace model is higher than the unsmoothed model.\n",
    "\n",
    "Laplace smoothing increases the value of the perplexity as probability of each tuple is decreases, we add V to the denomintor for each probability. Thus the probability of the sentence decreases and the perplexity increases."
   ]
  },
  {
   "cell_type": "code",
   "execution_count": null,
   "id": "fd6d2771",
   "metadata": {},
   "outputs": [],
   "source": []
  }
 ],
 "metadata": {
  "kernelspec": {
   "display_name": "Python 3 (ipykernel)",
   "language": "python",
   "name": "python3"
  },
  "language_info": {
   "codemirror_mode": {
    "name": "ipython",
    "version": 3
   },
   "file_extension": ".py",
   "mimetype": "text/x-python",
   "name": "python",
   "nbconvert_exporter": "python",
   "pygments_lexer": "ipython3",
   "version": "3.11.4"
  }
 },
 "nbformat": 4,
 "nbformat_minor": 5
}
